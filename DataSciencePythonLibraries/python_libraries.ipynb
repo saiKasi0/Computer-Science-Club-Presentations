{
 "cells": [
  {
   "cell_type": "markdown",
   "metadata": {},
   "source": [
    "### Common Python Tools for Data Science\n",
    "\n",
    "Numerical Python - NumPy \n",
    "Pandas\n",
    "Matplotlib / Seaborn\n",
    "SciPy"
   ]
  },
  {
   "cell_type": "markdown",
   "metadata": {},
   "source": [
    "Computational Libraries"
   ]
  },
  {
   "cell_type": "code",
   "execution_count": 1,
   "metadata": {},
   "outputs": [],
   "source": [
    "import numpy as np"
   ]
  },
  {
   "cell_type": "markdown",
   "metadata": {},
   "source": [
    "### Numpy is largely like a more scalable array\n"
   ]
  },
  {
   "cell_type": "code",
   "execution_count": 2,
   "metadata": {},
   "outputs": [
    {
     "data": {
      "text/plain": [
       "array([0, 1, 2, 3, 4])"
      ]
     },
     "execution_count": 2,
     "metadata": {},
     "output_type": "execute_result"
    }
   ],
   "source": [
    "\n",
    "# instantiation\n",
    "arr = np.array([0,1,2,3,4])\n",
    "arr"
   ]
  },
  {
   "cell_type": "code",
   "execution_count": 3,
   "metadata": {},
   "outputs": [
    {
     "data": {
      "text/plain": [
       "array([[0., 1., 2., 3., 4., 5., 6., 7., 8., 9.],\n",
       "       [0., 1., 2., 3., 4., 5., 6., 7., 8., 9.],\n",
       "       [0., 1., 2., 3., 4., 5., 6., 7., 8., 9.],\n",
       "       [0., 1., 2., 3., 4., 5., 6., 7., 8., 9.],\n",
       "       [0., 1., 2., 3., 4., 5., 6., 7., 8., 9.],\n",
       "       [0., 1., 2., 3., 4., 5., 6., 7., 8., 9.],\n",
       "       [0., 1., 2., 3., 4., 5., 6., 7., 8., 9.],\n",
       "       [0., 1., 2., 3., 4., 5., 6., 7., 8., 9.],\n",
       "       [0., 1., 2., 3., 4., 5., 6., 7., 8., 9.],\n",
       "       [0., 1., 2., 3., 4., 5., 6., 7., 8., 9.],\n",
       "       [0., 1., 2., 3., 4., 5., 6., 7., 8., 9.],\n",
       "       [0., 1., 2., 3., 4., 5., 6., 7., 8., 9.]])"
      ]
     },
     "execution_count": 3,
     "metadata": {},
     "output_type": "execute_result"
    }
   ],
   "source": [
    "# reading from csv (also works for tsv and other \"separated value formats\")\n",
    "arr =  np.genfromtxt('example.csv', delimiter=',')\n",
    "arr"
   ]
  },
  {
   "cell_type": "code",
   "execution_count": 4,
   "metadata": {},
   "outputs": [
    {
     "name": "stdout",
     "output_type": "stream",
     "text": [
      "[[[[0. 0. 0. 0.]\n",
      "   [0. 0. 0. 0.]\n",
      "   [0. 0. 0. 0.]]\n",
      "\n",
      "  [[0. 0. 0. 0.]\n",
      "   [0. 0. 0. 0.]\n",
      "   [0. 0. 0. 0.]]]\n",
      "\n",
      "\n",
      " [[[0. 0. 0. 0.]\n",
      "   [0. 0. 0. 0.]\n",
      "   [0. 0. 0. 0.]]\n",
      "\n",
      "  [[0. 0. 0. 0.]\n",
      "   [0. 0. 0. 0.]\n",
      "   [0. 0. 0. 0.]]]]\n"
     ]
    }
   ],
   "source": [
    "# n - dimensional data\n",
    "arr_4d = np.zeros((2, 2, 3, 4))  # 4D array with shape (2, 2, 3, 4)\n",
    "print(arr_4d)"
   ]
  },
  {
   "cell_type": "markdown",
   "metadata": {},
   "source": [
    "### Pandas, like excel but better   "
   ]
  },
  {
   "cell_type": "code",
   "execution_count": 5,
   "metadata": {},
   "outputs": [
    {
     "data": {
      "text/html": [
       "<div>\n",
       "<style scoped>\n",
       "    .dataframe tbody tr th:only-of-type {\n",
       "        vertical-align: middle;\n",
       "    }\n",
       "\n",
       "    .dataframe tbody tr th {\n",
       "        vertical-align: top;\n",
       "    }\n",
       "\n",
       "    .dataframe thead th {\n",
       "        text-align: right;\n",
       "    }\n",
       "</style>\n",
       "<table border=\"1\" class=\"dataframe\">\n",
       "  <thead>\n",
       "    <tr style=\"text-align: right;\">\n",
       "      <th></th>\n",
       "      <th>Name</th>\n",
       "      <th>Grade</th>\n",
       "      <th>Computer Science Level</th>\n",
       "      <th>Computer Brand</th>\n",
       "    </tr>\n",
       "  </thead>\n",
       "  <tbody>\n",
       "    <tr>\n",
       "      <th>0</th>\n",
       "      <td>Shubh</td>\n",
       "      <td>11.0</td>\n",
       "      <td>3</td>\n",
       "      <td>Mac</td>\n",
       "    </tr>\n",
       "    <tr>\n",
       "      <th>1</th>\n",
       "      <td>Atharva</td>\n",
       "      <td>11.0</td>\n",
       "      <td>3/4</td>\n",
       "      <td>Mac</td>\n",
       "    </tr>\n",
       "    <tr>\n",
       "      <th>2</th>\n",
       "      <td>David</td>\n",
       "      <td>11.0</td>\n",
       "      <td>3</td>\n",
       "      <td>Asus</td>\n",
       "    </tr>\n",
       "    <tr>\n",
       "      <th>3</th>\n",
       "      <td>Dhurv</td>\n",
       "      <td>12.0</td>\n",
       "      <td>3</td>\n",
       "      <td>Mac</td>\n",
       "    </tr>\n",
       "    <tr>\n",
       "      <th>4</th>\n",
       "      <td>Prabhav</td>\n",
       "      <td>12.0</td>\n",
       "      <td>3</td>\n",
       "      <td>Mac</td>\n",
       "    </tr>\n",
       "    <tr>\n",
       "      <th>5</th>\n",
       "      <td>Hinal</td>\n",
       "      <td>12.0</td>\n",
       "      <td>3</td>\n",
       "      <td>Dell</td>\n",
       "    </tr>\n",
       "    <tr>\n",
       "      <th>6</th>\n",
       "      <td>Mr.Hulett</td>\n",
       "      <td>NaN</td>\n",
       "      <td>NaN</td>\n",
       "      <td>All of em</td>\n",
       "    </tr>\n",
       "  </tbody>\n",
       "</table>\n",
       "</div>"
      ],
      "text/plain": [
       "        Name  Grade Computer Science Level Computer Brand\n",
       "0      Shubh   11.0                      3            Mac\n",
       "1    Atharva   11.0                    3/4            Mac\n",
       "2      David   11.0                      3           Asus\n",
       "3      Dhurv   12.0                      3            Mac\n",
       "4    Prabhav   12.0                      3            Mac\n",
       "5      Hinal   12.0                      3           Dell\n",
       "6  Mr.Hulett    NaN                    NaN      All of em"
      ]
     },
     "execution_count": 5,
     "metadata": {},
     "output_type": "execute_result"
    }
   ],
   "source": [
    "import pandas as pd\n",
    "\n",
    "df = pd.read_csv(\"pandas_ex.csv\")\n",
    "df"
   ]
  },
  {
   "cell_type": "code",
   "execution_count": 6,
   "metadata": {},
   "outputs": [
    {
     "data": {
      "text/html": [
       "<div>\n",
       "<style scoped>\n",
       "    .dataframe tbody tr th:only-of-type {\n",
       "        vertical-align: middle;\n",
       "    }\n",
       "\n",
       "    .dataframe tbody tr th {\n",
       "        vertical-align: top;\n",
       "    }\n",
       "\n",
       "    .dataframe thead th {\n",
       "        text-align: right;\n",
       "    }\n",
       "</style>\n",
       "<table border=\"1\" class=\"dataframe\">\n",
       "  <thead>\n",
       "    <tr style=\"text-align: right;\">\n",
       "      <th></th>\n",
       "      <th>Name</th>\n",
       "      <th>Grade</th>\n",
       "      <th>Computer Science Level</th>\n",
       "      <th>Computer Brand</th>\n",
       "    </tr>\n",
       "  </thead>\n",
       "  <tbody>\n",
       "    <tr>\n",
       "      <th>0</th>\n",
       "      <td>Shubh</td>\n",
       "      <td>11.0</td>\n",
       "      <td>3</td>\n",
       "      <td>Mac</td>\n",
       "    </tr>\n",
       "    <tr>\n",
       "      <th>1</th>\n",
       "      <td>Atharva</td>\n",
       "      <td>11.0</td>\n",
       "      <td>3/4</td>\n",
       "      <td>Mac</td>\n",
       "    </tr>\n",
       "    <tr>\n",
       "      <th>2</th>\n",
       "      <td>David</td>\n",
       "      <td>11.0</td>\n",
       "      <td>3</td>\n",
       "      <td>Asus</td>\n",
       "    </tr>\n",
       "    <tr>\n",
       "      <th>3</th>\n",
       "      <td>Dhurv</td>\n",
       "      <td>12.0</td>\n",
       "      <td>3</td>\n",
       "      <td>Mac</td>\n",
       "    </tr>\n",
       "    <tr>\n",
       "      <th>4</th>\n",
       "      <td>Prabhav</td>\n",
       "      <td>12.0</td>\n",
       "      <td>3</td>\n",
       "      <td>Mac</td>\n",
       "    </tr>\n",
       "  </tbody>\n",
       "</table>\n",
       "</div>"
      ],
      "text/plain": [
       "      Name  Grade Computer Science Level Computer Brand\n",
       "0    Shubh   11.0                      3            Mac\n",
       "1  Atharva   11.0                    3/4            Mac\n",
       "2    David   11.0                      3           Asus\n",
       "3    Dhurv   12.0                      3            Mac\n",
       "4  Prabhav   12.0                      3            Mac"
      ]
     },
     "execution_count": 6,
     "metadata": {},
     "output_type": "execute_result"
    }
   ],
   "source": [
    "# First 5\n",
    "df.head()"
   ]
  },
  {
   "cell_type": "code",
   "execution_count": 7,
   "metadata": {},
   "outputs": [
    {
     "data": {
      "text/html": [
       "<div>\n",
       "<style scoped>\n",
       "    .dataframe tbody tr th:only-of-type {\n",
       "        vertical-align: middle;\n",
       "    }\n",
       "\n",
       "    .dataframe tbody tr th {\n",
       "        vertical-align: top;\n",
       "    }\n",
       "\n",
       "    .dataframe thead th {\n",
       "        text-align: right;\n",
       "    }\n",
       "</style>\n",
       "<table border=\"1\" class=\"dataframe\">\n",
       "  <thead>\n",
       "    <tr style=\"text-align: right;\">\n",
       "      <th></th>\n",
       "      <th>Name</th>\n",
       "      <th>Grade</th>\n",
       "      <th>Computer Science Level</th>\n",
       "      <th>Computer Brand</th>\n",
       "    </tr>\n",
       "  </thead>\n",
       "  <tbody>\n",
       "    <tr>\n",
       "      <th>2</th>\n",
       "      <td>David</td>\n",
       "      <td>11.0</td>\n",
       "      <td>3</td>\n",
       "      <td>Asus</td>\n",
       "    </tr>\n",
       "    <tr>\n",
       "      <th>3</th>\n",
       "      <td>Dhurv</td>\n",
       "      <td>12.0</td>\n",
       "      <td>3</td>\n",
       "      <td>Mac</td>\n",
       "    </tr>\n",
       "    <tr>\n",
       "      <th>4</th>\n",
       "      <td>Prabhav</td>\n",
       "      <td>12.0</td>\n",
       "      <td>3</td>\n",
       "      <td>Mac</td>\n",
       "    </tr>\n",
       "    <tr>\n",
       "      <th>5</th>\n",
       "      <td>Hinal</td>\n",
       "      <td>12.0</td>\n",
       "      <td>3</td>\n",
       "      <td>Dell</td>\n",
       "    </tr>\n",
       "    <tr>\n",
       "      <th>6</th>\n",
       "      <td>Mr.Hulett</td>\n",
       "      <td>NaN</td>\n",
       "      <td>NaN</td>\n",
       "      <td>All of em</td>\n",
       "    </tr>\n",
       "  </tbody>\n",
       "</table>\n",
       "</div>"
      ],
      "text/plain": [
       "        Name  Grade Computer Science Level Computer Brand\n",
       "2      David   11.0                      3           Asus\n",
       "3      Dhurv   12.0                      3            Mac\n",
       "4    Prabhav   12.0                      3            Mac\n",
       "5      Hinal   12.0                      3           Dell\n",
       "6  Mr.Hulett    NaN                    NaN      All of em"
      ]
     },
     "execution_count": 7,
     "metadata": {},
     "output_type": "execute_result"
    }
   ],
   "source": [
    "# Last 5\n",
    "df.tail()"
   ]
  },
  {
   "cell_type": "code",
   "execution_count": 8,
   "metadata": {},
   "outputs": [
    {
     "data": {
      "text/html": [
       "<div>\n",
       "<style scoped>\n",
       "    .dataframe tbody tr th:only-of-type {\n",
       "        vertical-align: middle;\n",
       "    }\n",
       "\n",
       "    .dataframe tbody tr th {\n",
       "        vertical-align: top;\n",
       "    }\n",
       "\n",
       "    .dataframe thead th {\n",
       "        text-align: right;\n",
       "    }\n",
       "</style>\n",
       "<table border=\"1\" class=\"dataframe\">\n",
       "  <thead>\n",
       "    <tr style=\"text-align: right;\">\n",
       "      <th></th>\n",
       "      <th>Name</th>\n",
       "      <th>Grade</th>\n",
       "      <th>Computer Science Level</th>\n",
       "      <th>Computer Brand</th>\n",
       "    </tr>\n",
       "  </thead>\n",
       "  <tbody>\n",
       "    <tr>\n",
       "      <th>3</th>\n",
       "      <td>Dhurv</td>\n",
       "      <td>12.0</td>\n",
       "      <td>3</td>\n",
       "      <td>Mac</td>\n",
       "    </tr>\n",
       "    <tr>\n",
       "      <th>4</th>\n",
       "      <td>Prabhav</td>\n",
       "      <td>12.0</td>\n",
       "      <td>3</td>\n",
       "      <td>Mac</td>\n",
       "    </tr>\n",
       "    <tr>\n",
       "      <th>5</th>\n",
       "      <td>Hinal</td>\n",
       "      <td>12.0</td>\n",
       "      <td>3</td>\n",
       "      <td>Dell</td>\n",
       "    </tr>\n",
       "  </tbody>\n",
       "</table>\n",
       "</div>"
      ],
      "text/plain": [
       "      Name  Grade Computer Science Level Computer Brand\n",
       "3    Dhurv   12.0                      3            Mac\n",
       "4  Prabhav   12.0                      3            Mac\n",
       "5    Hinal   12.0                      3           Dell"
      ]
     },
     "execution_count": 8,
     "metadata": {},
     "output_type": "execute_result"
    }
   ],
   "source": [
    "mask = df['Grade'] == 12\n",
    "df[mask]"
   ]
  },
  {
   "cell_type": "code",
   "execution_count": 9,
   "metadata": {},
   "outputs": [
    {
     "data": {
      "text/html": [
       "<div>\n",
       "<style scoped>\n",
       "    .dataframe tbody tr th:only-of-type {\n",
       "        vertical-align: middle;\n",
       "    }\n",
       "\n",
       "    .dataframe tbody tr th {\n",
       "        vertical-align: top;\n",
       "    }\n",
       "\n",
       "    .dataframe thead th {\n",
       "        text-align: right;\n",
       "    }\n",
       "</style>\n",
       "<table border=\"1\" class=\"dataframe\">\n",
       "  <thead>\n",
       "    <tr style=\"text-align: right;\">\n",
       "      <th></th>\n",
       "      <th>Name</th>\n",
       "      <th>Grade</th>\n",
       "      <th>Computer Science Level</th>\n",
       "      <th>Computer Brand</th>\n",
       "    </tr>\n",
       "  </thead>\n",
       "  <tbody>\n",
       "    <tr>\n",
       "      <th>3</th>\n",
       "      <td>Dhurv</td>\n",
       "      <td>12.0</td>\n",
       "      <td>3</td>\n",
       "      <td>Mac</td>\n",
       "    </tr>\n",
       "    <tr>\n",
       "      <th>4</th>\n",
       "      <td>Prabhav</td>\n",
       "      <td>12.0</td>\n",
       "      <td>3</td>\n",
       "      <td>Mac</td>\n",
       "    </tr>\n",
       "  </tbody>\n",
       "</table>\n",
       "</div>"
      ],
      "text/plain": [
       "      Name  Grade Computer Science Level Computer Brand\n",
       "3    Dhurv   12.0                      3            Mac\n",
       "4  Prabhav   12.0                      3            Mac"
      ]
     },
     "execution_count": 9,
     "metadata": {},
     "output_type": "execute_result"
    }
   ],
   "source": [
    "mask = (df['Grade'] == 12) & (df['Computer Brand'] == 'Mac')\n",
    "df[mask]"
   ]
  },
  {
   "cell_type": "code",
   "execution_count": 10,
   "metadata": {},
   "outputs": [
    {
     "data": {
      "text/html": [
       "<div>\n",
       "<style scoped>\n",
       "    .dataframe tbody tr th:only-of-type {\n",
       "        vertical-align: middle;\n",
       "    }\n",
       "\n",
       "    .dataframe tbody tr th {\n",
       "        vertical-align: top;\n",
       "    }\n",
       "\n",
       "    .dataframe thead th {\n",
       "        text-align: right;\n",
       "    }\n",
       "</style>\n",
       "<table border=\"1\" class=\"dataframe\">\n",
       "  <thead>\n",
       "    <tr style=\"text-align: right;\">\n",
       "      <th></th>\n",
       "      <th>Name</th>\n",
       "      <th>Grade</th>\n",
       "      <th>Computer Science Level</th>\n",
       "      <th>Computer Brand</th>\n",
       "    </tr>\n",
       "  </thead>\n",
       "  <tbody>\n",
       "    <tr>\n",
       "      <th>0</th>\n",
       "      <td>Shubh</td>\n",
       "      <td>11.0</td>\n",
       "      <td>3</td>\n",
       "      <td>Mac</td>\n",
       "    </tr>\n",
       "    <tr>\n",
       "      <th>1</th>\n",
       "      <td>Atharva</td>\n",
       "      <td>11.0</td>\n",
       "      <td>3/4</td>\n",
       "      <td>Mac</td>\n",
       "    </tr>\n",
       "    <tr>\n",
       "      <th>2</th>\n",
       "      <td>David</td>\n",
       "      <td>11.0</td>\n",
       "      <td>3</td>\n",
       "      <td>Asus</td>\n",
       "    </tr>\n",
       "    <tr>\n",
       "      <th>3</th>\n",
       "      <td>Dhurv</td>\n",
       "      <td>12.0</td>\n",
       "      <td>3</td>\n",
       "      <td>Mac</td>\n",
       "    </tr>\n",
       "    <tr>\n",
       "      <th>4</th>\n",
       "      <td>Prabhav</td>\n",
       "      <td>12.0</td>\n",
       "      <td>3</td>\n",
       "      <td>Mac</td>\n",
       "    </tr>\n",
       "    <tr>\n",
       "      <th>5</th>\n",
       "      <td>Hinal</td>\n",
       "      <td>12.0</td>\n",
       "      <td>3</td>\n",
       "      <td>Dell</td>\n",
       "    </tr>\n",
       "  </tbody>\n",
       "</table>\n",
       "</div>"
      ],
      "text/plain": [
       "      Name  Grade Computer Science Level Computer Brand\n",
       "0    Shubh   11.0                      3            Mac\n",
       "1  Atharva   11.0                    3/4            Mac\n",
       "2    David   11.0                      3           Asus\n",
       "3    Dhurv   12.0                      3            Mac\n",
       "4  Prabhav   12.0                      3            Mac\n",
       "5    Hinal   12.0                      3           Dell"
      ]
     },
     "execution_count": 10,
     "metadata": {},
     "output_type": "execute_result"
    }
   ],
   "source": [
    "# Mr.Hulett was dropped because NA Grade / Comp Sci level\n",
    "df.dropna()"
   ]
  },
  {
   "cell_type": "markdown",
   "metadata": {},
   "source": [
    "### Matplotlib - Wonderful Graphs"
   ]
  },
  {
   "cell_type": "code",
   "execution_count": 11,
   "metadata": {},
   "outputs": [
    {
     "data": {
      "image/png": "[encoded data removed]",
      "text/plain": [
       "<Figure size 640x480 with 1 Axes>"
      ]
     },
     "metadata": {},
     "output_type": "display_data"
    }
   ],
   "source": [
    "import matplotlib.pyplot as plt\n",
    "\n",
    "# Parameters for the normal distribution\n",
    "mean = 0\n",
    "std_dev = 1\n",
    "n_samples = 1000\n",
    "\n",
    "data = np.random.normal(loc=mean, scale=std_dev, size=n_samples)\n",
    "\n",
    "plt.hist(data, bins=30, density=True, color='red')\n",
    "\n",
    "plt.title('Normal Distribution (mean=0, std dev=1)')\n",
    "plt.xlabel('Value')\n",
    "plt.ylabel('Density')\n",
    "\n",
    "plt.show()"
   ]
  },
  {
   "cell_type": "markdown",
   "metadata": {},
   "source": [
    "### Seaborn - a matplotlib wrapper\n",
    "lets you do cool stuff quickly (kernel density estimate)"
   ]
  },
  {
   "cell_type": "code",
   "execution_count": 12,
   "metadata": {},
   "outputs": [
    {
     "data": {
      "image/png": "[encoded data removed]",
      "text/plain": [
       "<Figure size 640x480 with 1 Axes>"
      ]
     },
     "metadata": {},
     "output_type": "display_data"
    }
   ],
   "source": [
    "import seaborn as sns\n",
    "\n",
    "# Plot the histogram and kernel density estimate (KDE) plot\n",
    "sns.histplot(data, bins=30, kde=True, color='blue')\n",
    "\n",
    "# Add labels and title\n",
    "plt.title('Normal Distribution with Seaborn (mean=0, std dev=1)')\n",
    "plt.xlabel('Value')\n",
    "plt.ylabel('Density')\n",
    "\n",
    "# Show the plot\n",
    "plt.show()"
   ]
  },
  {
   "cell_type": "markdown",
   "metadata": {},
   "source": [
    "### Scientific Python (SciPy) - Computational Gold"
   ]
  },
  {
   "cell_type": "code",
   "execution_count": 13,
   "metadata": {},
   "outputs": [
    {
     "name": "stdout",
     "output_type": "stream",
     "text": [
      "Integral result: 2.6666666666666665\n"
     ]
    }
   ],
   "source": [
    "from scipy.integrate import quad\n",
    "\n",
    "# Define a function to integrate (e.g., f(x) = x^2)\n",
    "def f(x):\n",
    "    return x**2\n",
    "\n",
    "# Integrate f(x) from 0 to 2\n",
    "result, error = quad(f, 0, 2)\n",
    "print(\"Integral result:\", result)"
   ]
  },
  {
   "cell_type": "code",
   "execution_count": 14,
   "metadata": {},
   "outputs": [
    {
     "name": "stdout",
     "output_type": "stream",
     "text": [
      "[0.8 1.3]\n"
     ]
    }
   ],
   "source": [
    "# Solve linear equations\n",
    "from scipy.linalg import solve\n",
    "A = [[3, 2], [1, 4]]\n",
    "b = [5, 6]\n",
    "solution = solve(A, b)\n",
    "print(solution)"
   ]
  },
  {
   "cell_type": "markdown",
   "metadata": {},
   "source": [
    "### FFT - literally relent in every felid : super easy with Scipy - accelerated polynomial athematic\n",
    "1. Signal Processing\n",
    "2. Telecommunications\n",
    "3. Image Processing\n",
    "4. Vibration Analysis\n",
    "5. Quantum Physics\n",
    "6. Electromagnetics and Antenna Design\n",
    "7. Medical Imaging\n",
    "8. Astronomy\n",
    "9. Seismology\n",
    "10. Acoustics\n",
    "11. Financial Analysis\n",
    "12. Control Systems\n",
    "13. Audio and Music\n",
    "14. Oceanography\n",
    "15. Biology\n",
    "16. Music Information Retrieval\n",
    "\n"
   ]
  },
  {
   "cell_type": "code",
   "execution_count": 15,
   "metadata": {},
   "outputs": [
    {
     "data": {
      "image/png": "[encoded data removed]",
      "text/plain": [
       "<Figure size 800x600 with 1 Axes>"
      ]
     },
     "metadata": {},
     "output_type": "display_data"
    },
    {
     "data": {
      "image/png": "[encoded data removed]",
      "text/plain": [
       "<Figure size 800x600 with 1 Axes>"
      ]
     },
     "metadata": {},
     "output_type": "display_data"
    }
   ],
   "source": [
    "# Underlying Divide and Conquer Alg.\n",
    "def FFT(x):\n",
    "    \"\"\"\n",
    "    A recursive implementation of\n",
    "    the 1D Cooley-Tukey FFT, the\n",
    "    input should have a length of\n",
    "    power of 2.\n",
    "    \"\"\"\n",
    "    N = len(x)\n",
    "\n",
    "    if N == 1:\n",
    "        return x\n",
    "    else:\n",
    "        X_even = FFT(x[::2])\n",
    "        X_odd = FFT(x[1::2])\n",
    "        factor = np.exp(-2j * np.pi * np.arange(N) / N)\n",
    "\n",
    "        X = np.concatenate([\n",
    "            X_even + factor[:int(N / 2)] * X_odd,\n",
    "            X_even + factor[int(N / 2):] * X_odd\n",
    "        ])\n",
    "        return X\n",
    "\n",
    "# sampling rate\n",
    "sr = 128\n",
    "# sampling interval\n",
    "ts = 1.0 / sr\n",
    "t = np.arange(0, 1, ts)\n",
    "\n",
    "# Generate a signal with multiple frequencies\n",
    "freq = 1.0\n",
    "x = 3 * np.sin(2 * np.pi * freq * t)\n",
    "\n",
    "freq = 4\n",
    "x += np.sin(2 * np.pi * freq * t)\n",
    "\n",
    "freq = 7\n",
    "x += 0.5 * np.sin(2 * np.pi * freq * t)\n",
    "\n",
    "# Plot the time-domain signal\n",
    "plt.figure(figsize=(8, 6))\n",
    "plt.plot(t, x, 'r')\n",
    "plt.ylabel('Amplitude')\n",
    "plt.title('Time Domain Signal')\n",
    "plt.show()\n",
    "\n",
    "# Compute the FFT\n",
    "X = FFT(x)\n",
    "\n",
    "# Frequency domain plot\n",
    "N = len(x)\n",
    "n = np.arange(N)\n",
    "T = N / sr\n",
    "freqs = n / T\n",
    "\n",
    "# Only plot the first half of the frequencies (positive frequencies)\n",
    "plt.figure(figsize=(8, 6))\n",
    "plt.stem(freqs[:N // 2], np.abs(X[:N // 2]), 'b', markerfmt=\" \", basefmt=\"-b\")\n",
    "plt.xlabel('Frequency (Hz)')\n",
    "plt.ylabel('Magnitude')\n",
    "plt.title('Frequency Domain Signal')\n",
    "plt.show()\n"
   ]
  },
  {
   "cell_type": "code",
   "execution_count": 16,
   "metadata": {},
   "outputs": [
    {
     "data": {
      "image/png": "[encoded data removed]",
      "text/plain": [
       "<Figure size 800x600 with 1 Axes>"
      ]
     },
     "metadata": {},
     "output_type": "display_data"
    },
    {
     "data": {
      "image/png": "[encoded data removed]",
      "text/plain": [
       "<Figure size 800x600 with 1 Axes>"
      ]
     },
     "metadata": {},
     "output_type": "display_data"
    }
   ],
   "source": [
    "from scipy.fft import fft\n",
    "\n",
    "# sampling rate\n",
    "sr = 128\n",
    "# sampling interval\n",
    "ts = 1.0 / sr\n",
    "t = np.arange(0, 1, ts)\n",
    "\n",
    "# Generate a signal with multiple frequencies\n",
    "freq = 1.0\n",
    "x = 3 * np.sin(2 * np.pi * freq * t)\n",
    "\n",
    "freq = 4\n",
    "x += np.sin(2 * np.pi * freq * t)\n",
    "\n",
    "freq = 7\n",
    "x += 0.5 * np.sin(2 * np.pi * freq * t)\n",
    "\n",
    "# Plot the time-domain signal\n",
    "plt.figure(figsize=(8, 6))\n",
    "plt.plot(t, x, 'r')\n",
    "plt.ylabel('Amplitude')\n",
    "plt.title('Time Domain Signal')\n",
    "plt.show()\n",
    "\n",
    "# Apply FFT using scipy\n",
    "X = fft(x)\n",
    "\n",
    "# Frequency domain plotting\n",
    "N = len(x)\n",
    "n = np.arange(N)\n",
    "T = N / sr\n",
    "freqs = n / T\n",
    "\n",
    "# Only plot the first half of the frequencies (positive frequencies)\n",
    "plt.figure(figsize=(8, 6))\n",
    "plt.stem(freqs[:N // 2], np.abs(X[:N // 2]), 'b', markerfmt=\" \", basefmt=\"-b\")\n",
    "plt.xlabel('Frequency (Hz)')\n",
    "plt.ylabel('Magnitude')\n",
    "plt.title('Frequency Domain Signal')\n",
    "plt.show()\n"
   ]
  }
 ],
 "metadata": {
  "kernelspec": {
   "display_name": "base",
   "language": "python",
   "name": "python3"
  },
  "language_info": {
   "codemirror_mode": {
    "name": "ipython",
    "version": 3
   },
   "file_extension": ".py",
   "mimetype": "text/x-python",
   "name": "python",
   "nbconvert_exporter": "python",
   "pygments_lexer": "ipython3",
   "version": "3.12.4"
  }
 },
 "nbformat": 4,
 "nbformat_minor": 2
}
