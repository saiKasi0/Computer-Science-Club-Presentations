{
 "cells": [
  {
   "cell_type": "markdown",
   "metadata": {},
   "source": [
    "# Python Virtual Environments\n",
    "\n",
    "### Intuition\n",
    "\n",
    "- Setting up project environment (dependencies) can be cumbersome always using globally installed dependencies\n",
    "\n",
    "- Virtual environments allow you to resolve conflicts in dependency versions without breaking code and containerizes dependencies to projects "
   ]
  },
  {
   "cell_type": "markdown",
   "metadata": {},
   "source": [
    "### Python venv\n",
    "\n",
    "How to use Python venv\n",
    "\n",
    "- Install virtual env using python package manager (pip) : pip install virtualenv\n",
    "\n",
    "- Run in terminal: python3 -m venv .venv\n",
    "\n",
    "- Then to activate venv: source .venv/bin/activate\n",
    "\n",
    "- Check activation by running: which python\n",
    "\n",
    "- Install your dependencies using pip: pip install pandas numpy\n",
    "\n",
    "- Save dependencies into file using: pip freeze > requirements.txt\n",
    "\n",
    "- To stop: deactivate"
   ]
  },
  {
   "cell_type": "markdown",
   "metadata": {},
   "source": [
    "### Conda\n",
    "\n",
    "How to use Conda\n",
    "\n",
    "- Install Miniconda or Miniforge or Anaconda Distribution\n",
    "\n",
    "- Run in terminal (not necessary, can use \"base\" conda env ): conda create -n myenv\n",
    "\n",
    "- Then to activate venv: conda activate\n",
    "\n",
    "- Check activation by running: which python\n",
    "\n",
    "- Install your dependencies using pip: pip install pandas numpy\n",
    "\n",
    "- Save dependencies into file using: dependencies will be saved in conda installation choice (easier for sharing and prevents clutter in project structure)\n",
    "\n",
    "- To stop: conda deactivate"
   ]
  }
 ],
 "metadata": {
  "kernelspec": {
   "display_name": "Python 3",
   "language": "python",
   "name": "python3"
  },
  "language_info": {
   "codemirror_mode": {
    "name": "ipython",
    "version": 3
   },
   "file_extension": ".py",
   "mimetype": "text/x-python",
   "name": "python",
   "nbconvert_exporter": "python",
   "pygments_lexer": "ipython3",
   "version": "3.12.4"
  }
 },
 "nbformat": 4,
 "nbformat_minor": 2
}
